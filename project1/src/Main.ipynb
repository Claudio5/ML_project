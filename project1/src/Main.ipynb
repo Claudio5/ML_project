{
 "cells": [
  {
   "cell_type": "markdown",
   "metadata": {},
   "source": [
    "# Machine Learning (CS-433)\n",
    "## Class Project 1\n",
    "Simon Canales, Jordan Willemin, Claudio Loureiro"
   ]
  },
  {
   "cell_type": "code",
   "execution_count": 1,
   "metadata": {},
   "outputs": [],
   "source": [
    "import numpy as np\n",
    "\n",
    "from proj1_helpers import *\n",
    "from implementations import *\n",
    "from utils import *"
   ]
  },
  {
   "cell_type": "code",
   "execution_count": 2,
   "metadata": {},
   "outputs": [],
   "source": [
    "training_pred, training_data, ids_tr = load_csv_data(\"../data/train.csv\")\n",
    "testing_pred, testing_data, ids_te = load_csv_data(\"../data/test.csv\")"
   ]
  },
  {
   "cell_type": "code",
   "execution_count": 3,
   "metadata": {},
   "outputs": [],
   "source": [
    "# Remove the 999\n",
    "# TODO\n",
    "training_data[training_data == -999] = 0\n",
    "testing_data[testing_data == -999] = 0"
   ]
  },
  {
   "cell_type": "markdown",
   "metadata": {},
   "source": [
    "# Least Squares Gradient Descent"
   ]
  },
  {
   "cell_type": "code",
   "execution_count": 53,
   "metadata": {},
   "outputs": [
    {
     "data": {
      "text/plain": [
       "(0.45666965466676879, 129.50068540360442, 0.66558800000000007)"
      ]
     },
     "execution_count": 53,
     "metadata": {},
     "output_type": "execute_result"
    }
   ],
   "source": [
    "tx = training_data #build_poly(training_data, 2) # TODO need to adapt CV to build_poly\n",
    "initial_w = np.zeros(tx.shape[1])\n",
    "max_iters = 10\n",
    "gamma = 0.01\n",
    "\n",
    "k_fold = 4\n",
    "indexes_te, indexes_tr = get_split_indexes(training_data, training_pred, k_fold)\n",
    "cross_validation(least_squares_GD, compute_mse, tx, training_pred, indexes_te, indexes_tr, k_fold, (initial_w, max_iters, gamma))"
   ]
  },
  {
   "cell_type": "code",
   "execution_count": null,
   "metadata": {},
   "outputs": [],
   "source": []
  },
  {
   "cell_type": "code",
   "execution_count": null,
   "metadata": {},
   "outputs": [],
   "source": []
  }
 ],
 "metadata": {
  "kernelspec": {
   "display_name": "Python 3",
   "language": "python",
   "name": "python3"
  },
  "language_info": {
   "codemirror_mode": {
    "name": "ipython",
    "version": 3
   },
   "file_extension": ".py",
   "mimetype": "text/x-python",
   "name": "python",
   "nbconvert_exporter": "python",
   "pygments_lexer": "ipython3",
   "version": "3.6.2"
  }
 },
 "nbformat": 4,
 "nbformat_minor": 2
}
