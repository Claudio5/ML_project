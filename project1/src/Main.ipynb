{
 "cells": [
  {
   "cell_type": "markdown",
   "metadata": {},
   "source": [
    "# Machine Learning (CS-433)\n",
    "## Class Project 1\n",
    "Simon Canales, Jordan Willemin, Claudio Loureiro"
   ]
  },
  {
   "cell_type": "code",
   "execution_count": 1,
   "metadata": {},
   "outputs": [],
   "source": [
    "import numpy as np\n",
    "\n",
    "from proj1_helpers import *\n",
    "from implementations import *\n",
    "from utils import *\n",
    "\n",
    "# Plot libraries\n",
    "import matplotlib\n",
    "import matplotlib.pyplot as plt"
   ]
  },
  {
   "cell_type": "markdown",
   "metadata": {},
   "source": [
    "## Loading data"
   ]
  },
  {
   "cell_type": "code",
   "execution_count": 2,
   "metadata": {},
   "outputs": [],
   "source": [
    "training_pred, training_data, ids_tr = load_csv_data(\"../data/train.csv\")\n",
    "testing_pred, testing_data, ids_te = load_csv_data(\"../data/test.csv\")"
   ]
  },
  {
   "cell_type": "markdown",
   "metadata": {},
   "source": [
    "## Preprocessing"
   ]
  },
  {
   "cell_type": "markdown",
   "metadata": {},
   "source": [
    "As a first step we preprocess our data, we observe that we have flags values as -999. We set it for now to 0 and this will be then treated correctly when standardizing data when doing cross-validation. Also there is a column that contains only 0, 1 and 2. Thus we increase this feature by 1 in order to not consider this value as the others 0."
   ]
  },
  {
   "cell_type": "code",
   "execution_count": 12,
   "metadata": {},
   "outputs": [],
   "source": [
    "x1 = training_data[:,29]\n",
    "x2 = training_data[:,28]"
   ]
  },
  {
   "cell_type": "code",
   "execution_count": null,
   "metadata": {},
   "outputs": [],
   "source": [
    "plt.scatter(x1,x2,cap = training_pred)"
   ]
  },
  {
   "cell_type": "code",
   "execution_count": 3,
   "metadata": {},
   "outputs": [],
   "source": [
    "wrong_value = -999\n",
    "training_data[training_data==wrong_value] = 0\n",
    "testing_data[testing_data==wrong_value] = 0\n",
    "training_data[:,22] += 1"
   ]
  },
  {
   "cell_type": "markdown",
   "metadata": {},
   "source": [
    "# Least Squares Gradient Descent"
   ]
  },
  {
   "cell_type": "markdown",
   "metadata": {},
   "source": [
    "We start with the least squares gradient descent. We fit a polynomial to our input data of degree 2. Then we do our cross-validation with $k_{fold} = 5$. After testing some values we quickly remark that increasing the maximum iterations above 100 and decreasing gamma below 0.01 does no longer increase the accuracy dramtically."
   ]
  },
  {
   "cell_type": "code",
   "execution_count": 10,
   "metadata": {
    "scrolled": true
   },
   "outputs": [
    {
     "name": "stdout",
     "output_type": "stream",
     "text": [
      "Mse:  0.35087575462902754\n",
      "Rmse:  0.8377060995707594\n",
      "Accuracy:  0.749096\n"
     ]
    }
   ],
   "source": [
    "poly_degree = 2\n",
    "tx = build_poly(training_data, poly_degree)\n",
    "initial_w = np.zeros(tx.shape[1])\n",
    "max_iters = 100\n",
    "gamma = 0.01\n",
    "\n",
    "k_fold = 5\n",
    "indexes_te, indexes_tr = get_split_indexes(training_data, training_pred, k_fold)\n",
    "mse_tr_mean, mse_te_mean, rmse_tr_mean, rmse_te_mean, accuracy = cross_validation(least_squares_GD, \n",
    "                                                                                   compute_mse, tx, training_pred, indexes_te, \n",
    "                                                                                   indexes_tr, k_fold, True, \n",
    "                                                                                   (initial_w, max_iters, gamma))\n",
    "\n",
    "print('Mse: ', format(mse_te_mean))\n",
    "print('Rmse: ', format(rmse_te_mean))\n",
    "print('Accuracy: ', format(accuracy))"
   ]
  },
  {
   "cell_type": "markdown",
   "metadata": {},
   "source": [
    "# Least Squares Stochastic Gradient Descent"
   ]
  },
  {
   "cell_type": "markdown",
   "metadata": {},
   "source": [
    "Least squares stochastic gradient descent. Agains it works as the least squares gradient descent but at each iteration we only take one sample of the dataset. The we naturally have to do more iterations than the gradient descent. Again we fit a polynomial to the dataset and perform a cross-validation with $k_{fold} = 5$"
   ]
  },
  {
   "cell_type": "code",
   "execution_count": 36,
   "metadata": {},
   "outputs": [
    {
     "name": "stdout",
     "output_type": "stream",
     "text": [
      "Mse:  0.49198847363399467\n",
      "Rmse:  0.9919561216444956\n",
      "Accuracy:  0.6828520000000002\n"
     ]
    }
   ],
   "source": [
    "poly_degree = 5\n",
    "tx = build_poly(training_data, poly_degree)\n",
    "initial_w = np.zeros(tx.shape[1])\n",
    "max_iters = 500\n",
    "gamma = 0.00001\n",
    "\n",
    "k_fold = 5\n",
    "indexes_te, indexes_tr = get_split_indexes(training_data, training_pred, k_fold)\n",
    "mse_tr_mean, mse_te_mean, rmse_tr_mean, rmse_te_mean, accuracy = cross_validation(least_squares_SGD, \n",
    "                                                                                  compute_mse, tx, training_pred, indexes_te, \n",
    "                                                                                  indexes_tr, k_fold, True, \n",
    "                                                                                  (initial_w, max_iters, gamma))\n",
    "\n",
    "print('Mse: ', format(mse_te_mean))\n",
    "print('Rmse: ', format(rmse_te_mean))\n",
    "print('Accuracy: ', format(accuracy))"
   ]
  },
  {
   "cell_type": "markdown",
   "metadata": {},
   "source": [
    "# Least Squares"
   ]
  },
  {
   "cell_type": "markdown",
   "metadata": {},
   "source": [
    "Compared to other methods least squares is not an iterative method. Instead we have to resolve a system in order to minimize our weight matrix. Again, we fit a polynomial to the data set of degree 3 and perform a cross-validation with $k_{fold} = 4$ "
   ]
  },
  {
   "cell_type": "code",
   "execution_count": 29,
   "metadata": {},
   "outputs": [
    {
     "name": "stdout",
     "output_type": "stream",
     "text": [
      "Mse:  0.3222919637939099\n",
      "Rmse:  0.8028598430534559\n",
      "Accuracy:  0.780356\n"
     ]
    }
   ],
   "source": [
    "poly_degree = 3\n",
    "tx = build_poly(training_data, poly_degree)\n",
    "\n",
    "k_fold = 4\n",
    "indexes_te, indexes_tr = get_split_indexes(training_data, training_pred, k_fold)\n",
    "mse_tr_mean, mse_te_mean, rmse_tr_mean, rmse_te_mean, accuracy = cross_validation(least_squares, \n",
    "                                                                                  compute_mse, tx, training_pred, indexes_te, \n",
    "                                                                                  indexes_tr, k_fold, True)\n",
    "\n",
    "print('Mse: ', format(mse_te_mean))\n",
    "print('Rmse: ', format(rmse_te_mean))\n",
    "print('Accuracy: ', format(accuracy))"
   ]
  },
  {
   "cell_type": "markdown",
   "metadata": {},
   "source": [
    "# Ridge regression "
   ]
  },
  {
   "cell_type": "markdown",
   "metadata": {},
   "source": [
    "The ridge regression is an improved version of the least squares method denoted above. It adds a regularization term. This method proved allowed us to have the best results in term of accuracy. Thus we will optimize our parameters to achieve the best possible accuracy."
   ]
  },
  {
   "cell_type": "code",
   "execution_count": 4,
   "metadata": {},
   "outputs": [
    {
     "name": "stdout",
     "output_type": "stream",
     "text": [
      "Mse:  29179899974.323742\n",
      "Rmse:  241577.7306554714\n",
      "Accuracy:  0.439816\n"
     ]
    }
   ],
   "source": [
    "poly_degree = 15\n",
    "tx = build_poly(training_data, poly_degree)\n",
    "lambda_ = 1e-15\n",
    "\n",
    "k_fold = 5\n",
    "indexes_te, indexes_tr = get_split_indexes(training_data, training_pred, k_fold)\n",
    "mse_tr_mean, mse_te_mean, rmse_tr_mean, rmse_te_mean, accuracy = cross_validation(ridge_regression, \n",
    "                                                                                  compute_mse, tx, training_pred, indexes_te, \n",
    "                                                                                  indexes_tr, k_fold, True, (lambda_,))\n",
    "\n",
    "print('Mse: ', format(mse_te_mean))\n",
    "print('Rmse: ', format(rmse_te_mean))\n",
    "print('Accuracy: ', format(accuracy))"
   ]
  },
  {
   "cell_type": "markdown",
   "metadata": {},
   "source": [
    "### Tuning lambda"
   ]
  },
  {
   "cell_type": "markdown",
   "metadata": {},
   "source": [
    "First we will try to find the lambda that gives us the best accuracy. We will iterate through a list of lambdas and perform a cross validation for each."
   ]
  },
  {
   "cell_type": "code",
   "execution_count": 18,
   "metadata": {},
   "outputs": [
    {
     "data": {
      "image/png": "[encoded data removed]",
      "text/plain": [
       "<matplotlib.figure.Figure at 0x26804d2eb38>"
      ]
     },
     "metadata": {},
     "output_type": "display_data"
    }
   ],
   "source": [
    "poly_degree = 12\n",
    "tx = build_poly(training_data, poly_degree)\n",
    "lambda_vec = np.logspace(-7, -17, 10)\n",
    "accuracy_vec = []\n",
    "\n",
    "k_fold = 4\n",
    "\n",
    "indexes_te, indexes_tr = get_split_indexes(training_data, training_pred, k_fold)\n",
    "\n",
    "for lambda_ in lambda_vec:\n",
    "    mse_tr_mean, mse_te_mean, rmse_tr_mean, rmse_te_mean, accuracy = cross_validation(ridge_regression, \n",
    "                                                                                      compute_mse, tx, training_pred, indexes_te, \n",
    "                                                                                      indexes_tr, k_fold, True, (lambda_,))\n",
    "    accuracy_vec.append(accuracy)\n",
    "    \n",
    "plt.semilogx(lambda_vec, accuracy_vec)\n",
    "plt.show()"
   ]
  },
  {
   "cell_type": "code",
   "execution_count": 36,
   "metadata": {},
   "outputs": [
    {
     "name": "stdout",
     "output_type": "stream",
     "text": [
      "[  8.   9.  10.  11.  12.  13.  14.]\n",
      "[  1.00000000e-08   1.00000000e-09   1.00000000e-10   1.00000000e-11\n",
      "   1.00000000e-12   1.00000000e-13   1.00000000e-14   1.00000000e-15\n",
      "   1.00000000e-16]\n"
     ]
    }
   ],
   "source": [
    "degrees_vec = np.linspace(8, 18, 10)\n",
    "lambdas_vec = np.logspace(-8, -16, 9)\n",
    "print(degrees_vec)\n",
    "print(lambdas_vec)\n",
    "k_fold = 5\n",
    "\n",
    "rmse_te_mean_arr = np.zeros((len(lambdas_vec), len(degrees_vec)))\n",
    "mse_te_mean_arr = np.zeros_like(rmse_te_mean_arr)\n",
    "accuracy_arr = np.zeros_like(rmse_te_mean_arr)\n",
    "\n",
    "for i, degree in enumerate(degrees_vec):\n",
    "    tx = build_poly(training_data, int(degree))\n",
    "    indexes_te, indexes_tr = get_split_indexes(training_data, training_pred, k_fold)\n",
    "    for j, lambda_ in enumerate(lambda_vec):\n",
    "        print(i,j)\n",
    "        mse_tr_mean, mse_te_mean, rmse_tr_mean, rmse_te_mean, accuracy = cross_validation(ridge_regression, \n",
    "                                                                                    compute_mse, tx, training_pred, indexes_te, \n",
    "                                                                                    indexes_tr, k_fold, True, (lambda_,))\n",
    "        accuracy_arr[j][i] = accuracy"
   ]
  },
  {
   "cell_type": "markdown",
   "metadata": {},
   "source": [
    "# Logistic regression"
   ]
  },
  {
   "cell_type": "code",
   "execution_count": 5,
   "metadata": {},
   "outputs": [],
   "source": [
    "training_pred_log = training_pred.copy()\n",
    "training_pred_log[training_pred_log==-1] = 0"
   ]
  },
  {
   "cell_type": "code",
   "execution_count": 6,
   "metadata": {},
   "outputs": [
    {
     "name": "stdout",
     "output_type": "stream",
     "text": [
      "Negative log likelihood:  0.6920867021048016\n",
      "Rmse:  1.1765089902799737\n",
      "Accuracy:  0.6768280000000001\n"
     ]
    }
   ],
   "source": [
    "poly_degree = 10\n",
    "tx = build_poly(training_data, poly_degree)\n",
    "initial_w = np.zeros(tx.shape[1])\n",
    "\n",
    "max_iters = 200\n",
    "gamma = 0.00001\n",
    "\n",
    "k_fold = 4\n",
    "indexes_te, indexes_tr = get_split_indexes(training_data, training_pred, k_fold)\n",
    "mse_tr_mean, mse_te_mean, rmse_tr_mean, rmse_te_mean, accuracy = cross_validation(logistic_regression, loss_logistic_regression,\n",
    "                                                                                  tx, training_pred_log, indexes_te, \n",
    "                                                                                  indexes_tr, k_fold, True, \n",
    "                                                                                  (initial_w, max_iters, gamma))\n",
    "\n",
    "print('Negative log likelihood: ', format(mse_te_mean))\n",
    "print('Rmse: ', format(rmse_te_mean))\n",
    "print('Accuracy: ', format(accuracy))"
   ]
  },
  {
   "cell_type": "markdown",
   "metadata": {},
   "source": [
    "# Regularized Logistic Regression"
   ]
  },
  {
   "cell_type": "code",
   "execution_count": 7,
   "metadata": {},
   "outputs": [
    {
     "name": "stdout",
     "output_type": "stream",
     "text": [
      "Negative log likelihood:  0.6920153614956716\n",
      "Rmse:  1.176448351178811\n",
      "Accuracy:  0.67778\n"
     ]
    }
   ],
   "source": [
    "poly_degree = 12\n",
    "tx = build_poly(training_data, poly_degree)\n",
    "initial_w = np.zeros(tx.shape[1])\n",
    "\n",
    "lambda_ = 1\n",
    "max_iters = 200\n",
    "gamma = 0.00001\n",
    "\n",
    "k_fold = 4\n",
    "indexes_te, indexes_tr = get_split_indexes(training_data, training_pred, k_fold)\n",
    "mse_tr_mean, mse_te_mean, rmse_tr_mean, rmse_te_mean, accuracy = cross_validation(reg_logistic_regression, \n",
    "                                                                                  reg_logistic_regression_loss,\n",
    "                                                                                  tx, training_pred_log, indexes_te, \n",
    "                                                                                  indexes_tr, k_fold, True, \n",
    "                                                                                  (lambda_, initial_w, max_iters, gamma),\n",
    "                                                                                  (lambda_,))\n",
    "\n",
    "print('Negative log likelihood: ', format(mse_te_mean))\n",
    "print('Rmse: ', format(rmse_te_mean))\n",
    "print('Accuracy: ', format(accuracy))"
   ]
  },
  {
   "cell_type": "code",
   "execution_count": null,
   "metadata": {},
   "outputs": [],
   "source": []
  }
 ],
 "metadata": {
  "kernelspec": {
   "display_name": "Python 3",
   "language": "python",
   "name": "python3"
  },
  "language_info": {
   "codemirror_mode": {
    "name": "ipython",
    "version": 3
   },
   "file_extension": ".py",
   "mimetype": "text/x-python",
   "name": "python",
   "nbconvert_exporter": "python",
   "pygments_lexer": "ipython3",
   "version": "3.6.2"
  }
 },
 "nbformat": 4,
 "nbformat_minor": 2
}
