{
 "cells": [
  {
   "cell_type": "markdown",
   "metadata": {},
   "source": [
    "# Machine Learning (CS-433)\n",
    "## Class Project 1\n",
    "Simon Canales, Jordan Willemin, Claudio Loureiro"
   ]
  },
  {
   "cell_type": "code",
   "execution_count": 26,
   "metadata": {},
   "outputs": [],
   "source": [
    "import numpy as np\n",
    "\n",
    "from proj1_helpers import *\n",
    "from implementations import *\n",
    "from utils import *\n",
    "\n",
    "# Plot libraries\n",
    "import matplotlib\n",
    "import matplotlib.pyplot as plt"
   ]
  },
  {
   "cell_type": "code",
   "execution_count": 27,
   "metadata": {},
   "outputs": [],
   "source": [
    "training_pred, training_data, ids_tr = load_csv_data(\"../data/train.csv\")\n",
    "testing_pred, testing_data, ids_te = load_csv_data(\"../data/test.csv\")"
   ]
  },
  {
   "cell_type": "markdown",
   "metadata": {},
   "source": [
    "# Preprocessing"
   ]
  },
  {
   "cell_type": "code",
   "execution_count": 31,
   "metadata": {},
   "outputs": [],
   "source": [
    "def adjust_wrong_data(data, y, wrongValue, data_set):\n",
    "    #Assign the mean value of the uncorrupted data of a feature to the corrupted data of this feature.\n",
    "    #If training data, then the corrupted data take the mean value of the uncorrupted data of the same class.\n",
    "    #If testing data, then the corrupted data take the mean value of all the uncorrpted data of this feature.\n",
    "    \n",
    "    if data_set == \"train\":\n",
    "        for i in range(np.shape(data)[1]):\n",
    "            feature = data[:,i] \n",
    "            feature_class_1 = feature[y==-1]\n",
    "            feature_class_1_clean = feature_class_1[feature_class_1!=wrongValue]\n",
    "            feature_mean_1 = np.mean(feature_class_1_clean)\n",
    "            feature_class_2 = feature[y==1]\n",
    "            feature_mean_2 = np.mean(feature_class_2[feature_class_2!=wrongValue])\n",
    "            for j in range(np.shape(data)[0]):\n",
    "                if y[j] == -1 and data[j,i] == wrongValue:\n",
    "                    data[j,i] = feature_mean_1\n",
    "                if y[j] == 1 and data[j,i] == wrongValue:\n",
    "                    data[j,i] = feature_mean_2\n",
    "    \n",
    "    if data_set == \"test\":\n",
    "        for i in range(np.shape(data)[1]):\n",
    "            feature = data[:,i]\n",
    "            feature_clean = feature[feature!=wrongValue]\n",
    "            feature_mean = np.mean(feature_clean)\n",
    "            for j in range(np.shape(data)[0]):\n",
    "                if data[j,i] == wrongValue:\n",
    "                    data[j,i] = feature_mean\n",
    "    \n",
    "    return data\n"
   ]
  },
  {
   "cell_type": "code",
   "execution_count": 29,
   "metadata": {},
   "outputs": [],
   "source": [
    "wrong_value = -999\n",
    "training_data = adjust_wrong_data(training_data, training_pred, wrong_value, \"train\")"
   ]
  },
  {
   "cell_type": "code",
   "execution_count": 3,
   "metadata": {},
   "outputs": [],
   "source": [
    "training_data[training_data==-999] = 0\n",
    "testing_data[testing_data==-999] = 0"
   ]
  },
  {
   "cell_type": "markdown",
   "metadata": {},
   "source": [
    "# Least Squares Gradient Descent"
   ]
  },
  {
   "cell_type": "code",
   "execution_count": 4,
   "metadata": {},
   "outputs": [
    {
     "name": "stdout",
     "output_type": "stream",
     "text": [
      "Mse:  0.80619754333174\n",
      "Rmse:  1.2698011996621676\n",
      "Accuracy:  0.7162200000000001\n"
     ]
    }
   ],
   "source": [
    "poly_degree = 2\n",
    "tx = build_poly(training_data, poly_degree)\n",
    "initial_w = np.zeros(tx.shape[1])\n",
    "max_iters = 40\n",
    "gamma = 0.02\n",
    "\n",
    "k_fold = 4\n",
    "indexes_te, indexes_tr = get_split_indexes(training_data, training_pred, k_fold)\n",
    "mse_tr_mean, mse_te_mean, rmse_tr_mean, rmse_te_mean, accuracy = cross_validation(least_squares_GD, \n",
    "                                                                                  compute_mse, tx, training_pred, indexes_te, \n",
    "                                                                                  indexes_tr, k_fold, True, \n",
    "                                                                                  (initial_w, max_iters, gamma))\n",
    "\n",
    "print('Mse: ', format(mse_te_mean))\n",
    "print('Rmse: ', format(rmse_te_mean))\n",
    "print('Accuracy: ', format(accuracy))"
   ]
  },
  {
   "cell_type": "markdown",
   "metadata": {},
   "source": [
    "# Least Squares Stochastic Gradient Descent"
   ]
  },
  {
   "cell_type": "code",
   "execution_count": 12,
   "metadata": {},
   "outputs": [
    {
     "name": "stdout",
     "output_type": "stream",
     "text": [
      "Mse:  0.3711797218912981\n",
      "Rmse:  0.8616028341310144\n",
      "Accuracy:  0.8706880000000001\n"
     ]
    }
   ],
   "source": [
    "poly_degree = 2\n",
    "tx = build_poly(training_data, poly_degree)\n",
    "initial_w = np.zeros(tx.shape[1])\n",
    "max_iters = 200\n",
    "gamma = 0.001\n",
    "\n",
    "k_fold = 4\n",
    "indexes_te, indexes_tr = get_split_indexes(training_data, training_pred, k_fold)\n",
    "mse_tr_mean, mse_te_mean, rmse_tr_mean, rmse_te_mean, accuracy = cross_validation(least_squares_SGD, \n",
    "                                                                                  compute_mse, tx, training_pred, indexes_te, \n",
    "                                                                                  indexes_tr, k_fold, True, \n",
    "                                                                                  (initial_w, max_iters, gamma))\n",
    "\n",
    "print('Mse: ', format(mse_te_mean))\n",
    "print('Rmse: ', format(rmse_te_mean))\n",
    "print('Accuracy: ', format(accuracy))"
   ]
  },
  {
   "cell_type": "markdown",
   "metadata": {},
   "source": [
    "# Least Squares"
   ]
  },
  {
   "cell_type": "code",
   "execution_count": 16,
   "metadata": {},
   "outputs": [
    {
     "name": "stdout",
     "output_type": "stream",
     "text": [
      "Mse:  0.34374992828993883\n",
      "Rmse:  0.8291561111032576\n",
      "Accuracy:  0.9085400000000002\n"
     ]
    }
   ],
   "source": [
    "poly_degree = 2\n",
    "tx = build_poly(training_data, poly_degree)\n",
    "initial_w = np.zeros(tx.shape[1])\n",
    "\n",
    "k_fold = 4\n",
    "indexes_te, indexes_tr = get_split_indexes(training_data, training_pred, k_fold)\n",
    "mse_tr_mean, mse_te_mean, rmse_tr_mean, rmse_te_mean, accuracy = cross_validation(least_squares, \n",
    "                                                                                  compute_mse, tx, training_pred, indexes_te, \n",
    "                                                                                  indexes_tr, k_fold, True)\n",
    "\n",
    "print('Mse: ', format(mse_te_mean))\n",
    "print('Rmse: ', format(rmse_te_mean))\n",
    "print('Accuracy: ', format(accuracy))"
   ]
  },
  {
   "cell_type": "markdown",
   "metadata": {},
   "source": [
    "# Ridge regression "
   ]
  },
  {
   "cell_type": "code",
   "execution_count": 19,
   "metadata": {},
   "outputs": [
    {
     "name": "stdout",
     "output_type": "stream",
     "text": [
      "Mse:  0.34370970218773156\n",
      "Rmse:  0.8291075951741506\n",
      "Accuracy:  0.9085280000000002\n"
     ]
    }
   ],
   "source": [
    "poly_degree = 2\n",
    "tx = build_poly(training_data, poly_degree)\n",
    "initial_w = np.zeros(tx.shape[1])\n",
    "lambda_ = 1e-6\n",
    "\n",
    "k_fold = 4\n",
    "indexes_te, indexes_tr = get_split_indexes(training_data, training_pred, k_fold)\n",
    "mse_tr_mean, mse_te_mean, rmse_tr_mean, rmse_te_mean, accuracy = cross_validation(ridge_regression, \n",
    "                                                                                  compute_mse, tx, training_pred, indexes_te, \n",
    "                                                                                  indexes_tr, k_fold, True, (lambda_,))\n",
    "\n",
    "print('Mse: ', format(mse_te_mean))\n",
    "print('Rmse: ', format(rmse_te_mean))\n",
    "print('Accuracy: ', format(accuracy))"
   ]
  },
  {
   "cell_type": "markdown",
   "metadata": {},
   "source": [
    "# Logistic regression"
   ]
  },
  {
   "cell_type": "code",
   "execution_count": 20,
   "metadata": {},
   "outputs": [
    {
     "name": "stdout",
     "output_type": "stream",
     "text": [
      "Negative log likelihood:  -0.8262917604900777\n",
      "Accuracy:  0.8764520000000002\n"
     ]
    }
   ],
   "source": [
    "poly_degree = 3\n",
    "tx = build_poly(training_data, poly_degree)\n",
    "initial_w = np.zeros(tx.shape[1])\n",
    "\n",
    "max_iters = 100\n",
    "gamma = 0.01\n",
    "\n",
    "k_fold = 4\n",
    "indexes_te, indexes_tr = get_split_indexes(training_data, training_pred, k_fold)\n",
    "mse_tr_mean, mse_te_mean, rmse_tr_mean, rmse_te_mean, accuracy = cross_validation(logistic_regression, loss_logistic_regression,\n",
    "                                                                                  tx, training_pred, indexes_te, \n",
    "                                                                                  indexes_tr, k_fold, True, \n",
    "                                                                                  (initial_w, max_iters, gamma))\n",
    "\n",
    "print('Negative log likelihood: ', format(mse_te_mean))\n",
    "print('Accuracy: ', format(accuracy))"
   ]
  },
  {
   "cell_type": "markdown",
   "metadata": {},
   "source": [
    "# Regularized Logistic Regression"
   ]
  },
  {
   "cell_type": "code",
   "execution_count": 21,
   "metadata": {},
   "outputs": [
    {
     "name": "stdout",
     "output_type": "stream",
     "text": [
      "Negative log likelihood:  -0.8249747825530349\n",
      "Accuracy:  0.8764520000000002\n"
     ]
    }
   ],
   "source": [
    "poly_degree = 3\n",
    "tx = build_poly(training_data, poly_degree)\n",
    "initial_w = np.zeros(tx.shape[1])\n",
    "\n",
    "lambda_ = 0.001\n",
    "max_iters = 100\n",
    "gamma = 0.01\n",
    "\n",
    "k_fold = 4\n",
    "indexes_te, indexes_tr = get_split_indexes(training_data, training_pred, k_fold)\n",
    "mse_tr_mean, mse_te_mean, rmse_tr_mean, rmse_te_mean, accuracy = cross_validation(reg_logistic_regression, \n",
    "                                                                                  reg_logistic_regression_loss,\n",
    "                                                                                  tx, training_pred, indexes_te, \n",
    "                                                                                  indexes_tr, k_fold, True, \n",
    "                                                                                  (lambda_, initial_w, max_iters, gamma),\n",
    "                                                                                  (lambda_,))\n",
    "\n",
    "print('Negative log likelihood: ', format(mse_te_mean))\n",
    "print('Accuracy: ', format(accuracy))"
   ]
  },
  {
   "cell_type": "code",
   "execution_count": null,
   "metadata": {},
   "outputs": [],
   "source": []
  }
 ],
 "metadata": {
  "kernelspec": {
   "display_name": "Python 3",
   "language": "python",
   "name": "python3"
  },
  "language_info": {
   "codemirror_mode": {
    "name": "ipython",
    "version": 3
   },
   "file_extension": ".py",
   "mimetype": "text/x-python",
   "name": "python",
   "nbconvert_exporter": "python",
   "pygments_lexer": "ipython3",
   "version": "3.6.2"
  }
 },
 "nbformat": 4,
 "nbformat_minor": 2
}
