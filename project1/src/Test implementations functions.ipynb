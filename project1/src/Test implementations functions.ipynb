{
 "cells": [
  {
   "cell_type": "code",
   "execution_count": 13,
   "metadata": {},
   "outputs": [],
   "source": [
    "import numpy as np"
   ]
  },
  {
   "cell_type": "code",
   "execution_count": 2,
   "metadata": {},
   "outputs": [],
   "source": [
    "def compute_mse(y, tx, w):\n",
    "    e = y - tx.dot(w)\n",
    "    return 1/(2*len(y)) * np.dot(e, e)\n",
    "\n",
    "def compute_mean_squared_gradient(y, tx, w):\n",
    "    err = y - tx.dot(w)\n",
    "    grad = -tx.T.dot(y) / len(y)\n",
    "    return grad, err\n",
    "\n",
    "def compute_SGD_gradient(y,tx,w):\n",
    "    err = y - tx.dot(w)\n",
    "    grad = -tx.T.dot(y)\n",
    "    return grad, err\n",
    "\n",
    "def gradient_descent(y, tx, w_initial, max_iters, gradient_function, loss_function):\n",
    "    w = w_initial\n",
    "    for n in range(max_iters):\n",
    "        # compute gradient\n",
    "        grad, err = gradient_function(y, tx, w)\n",
    "\n",
    "        # gradient w by descent update\n",
    "        w = w - gamma * grad\n",
    "\n",
    "    loss = loss_function(y, tx, w)\n",
    "    return w, loss"
   ]
  },
  {
   "cell_type": "code",
   "execution_count": 10,
   "metadata": {},
   "outputs": [],
   "source": [
    "def least_squares_GD(y, tx, initial_w, max_iters, gamma):\n",
    "    \"\"\"Least Squares gradient descent algorithm\"\"\"\n",
    "    w = initial_w\n",
    "    for n in range(max_iters):\n",
    "        # compute gradient\n",
    "        grad, err = compute_mean_squared_gradient(y, tx, w)\n",
    "\n",
    "        # gradient w by descent update\n",
    "        w = w - gamma * grad\n",
    "\n",
    "    loss = compute_mse(y, tx, w)\n",
    "    return w, loss"
   ]
  },
  {
   "cell_type": "code",
   "execution_count": 4,
   "metadata": {},
   "outputs": [],
   "source": [
    "def least_squares_SGD(y, tx, initial_w, max_iters, gamma):\n",
    "    \"\"\"Stochastic gradient descent.\"\"\"\n",
    "    # Define parameters to store w and loss\n",
    "    w = initial_w\n",
    "\n",
    "    for n_iter in range(max_iters):\n",
    "        index = np.random.randint(0, len(y) - 1)\n",
    "        # Compute a stochastic gradient and loss\n",
    "        grad, err = compute_SGD_gradient(y[index], tx[index, :], w)\n",
    "\n",
    "        # Update w through the stochastic gradient update\n",
    "        w = w - gamma * grad\n",
    "\n",
    "    loss = compute_mse(y, tx, w)\n",
    "    return w, loss"
   ]
  },
  {
   "cell_type": "code",
   "execution_count": 5,
   "metadata": {},
   "outputs": [],
   "source": [
    "def least_squares(y, tx):\n",
    "    \"\"\"calculate the least squares solution.\"\"\"\n",
    "    a = tx.T.dot(tx)\n",
    "    b = tx.T.dot(y)\n",
    "    w = np.linalg.solve(a, b)\n",
    "    loss = compute_mse(y, tx, w)\n",
    "    return w, loss"
   ]
  },
  {
   "cell_type": "code",
   "execution_count": 6,
   "metadata": {},
   "outputs": [],
   "source": [
    "def ridge_regression(y, tx, lambda_):\n",
    "    aI = 2 * tx.shape[0] * lambda_ * np.identity(tx.shape[1])\n",
    "    a = tx.T.dot(tx) + aI\n",
    "    b = tx.T.dot(y)\n",
    "    w = np.linalg.solve(a, b)\n",
    "    loss = compute_mse(y, tx, w)\n",
    "    return w, loss"
   ]
  },
  {
   "cell_type": "code",
   "execution_count": 7,
   "metadata": {},
   "outputs": [],
   "source": [
    "def sigmoid(x):\n",
    "    return 1/(1+np.exp(-x))\n",
    "\n",
    "def log_likelihood_gradient(y, tx, w):\n",
    "    return np.dot(np.transpose(tx), sigmoid(np.dot(tx, w)) - y)/len(y)\n",
    "\n",
    "def loss_logistic_regression(y, tx, w):\n",
    "    return np.sum(np.log(1 + np.exp(np.dot(tx, w))) - y*np.dot(tx, w))/len(y)\n",
    "\n",
    "def logistic_regression(y, tx, initial_w, max_iters, gamma):\n",
    "    w = initial_w\n",
    "    for n_iter in range(max_iters):\n",
    "        grad = log_likelihood_gradient(y, tx, w)\n",
    "        w = w - gamma*grad    \n",
    "    \n",
    "    loss = loss_logistic_regression(y, tx, w)\n",
    "    return w, loss"
   ]
  },
  {
   "cell_type": "code",
   "execution_count": 8,
   "metadata": {},
   "outputs": [],
   "source": [
    "def reg_logistic_regression_loss(y, tx, w, lambda_):\n",
    "    return (np.sum(np.log(1 + np.exp(np.dot(tx, w)))) - y.dot(np.dot(tx, w)))/len(y) + lambda_/2*np.vdot(w, w)\n",
    "\n",
    "def log_likelihood_regularized_gradient(y, tx, w, lambda_):\n",
    "    return np.dot(np.transpose(tx), sigmoid(np.dot(tx, w)) - y)/len(y) + lambda_*w\n",
    "\n",
    "def reg_logistic_regression(y, tx, lambda_, initial_w, max_iters, gamma):\n",
    "    w = initial_w\n",
    "    for n in range(max_iters):\n",
    "        grad = log_likelihood_regularized_gradient(y, tx, w, lambda_)\n",
    "        w = w - gamma*grad       \n",
    "    loss = reg_logistic_regression_loss(y, tx, w, lambda_)\n",
    "    return w, loss"
   ]
  },
  {
   "cell_type": "code",
   "execution_count": 12,
   "metadata": {},
   "outputs": [
    {
     "name": "stdout",
     "output_type": "stream",
     "text": [
      "[56.75 78.  ] 59497.337890624774\n"
     ]
    }
   ],
   "source": [
    "tx = np.array([[1,0],[2,3],[0.5,3],[4,4]])\n",
    "y = np.array([1,2,3,4])\n",
    "w = np.array([0.5,0.5])\n",
    "\n",
    "a,b = least_squares_GD(y,tx, w, 1000, 0.01)\n",
    "print(a,b)"
   ]
  },
  {
   "cell_type": "code",
   "execution_count": null,
   "metadata": {},
   "outputs": [],
   "source": []
  },
  {
   "cell_type": "code",
   "execution_count": null,
   "metadata": {},
   "outputs": [],
   "source": []
  }
 ],
 "metadata": {
  "kernelspec": {
   "display_name": "Python 3",
   "language": "python",
   "name": "python3"
  },
  "language_info": {
   "codemirror_mode": {
    "name": "ipython",
    "version": 3
   },
   "file_extension": ".py",
   "mimetype": "text/x-python",
   "name": "python",
   "nbconvert_exporter": "python",
   "pygments_lexer": "ipython3",
   "version": "3.6.5"
  }
 },
 "nbformat": 4,
 "nbformat_minor": 2
}
