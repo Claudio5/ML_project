{
 "cells": [
  {
   "cell_type": "code",
   "execution_count": 2,
   "metadata": {},
   "outputs": [],
   "source": [
    "import numpy as np\n",
    "import sys\n",
    "sys.path.append('../scripts')\n",
    "from proj1_helpers import *"
   ]
  },
  {
   "cell_type": "code",
   "execution_count": 3,
   "metadata": {},
   "outputs": [],
   "source": [
    "def compute_mse(y, tx, w):\n",
    "    e = y - tx.dot(w)\n",
    "    return 1/(2*len(y)) * np.dot(e, e)\n",
    "\n",
    "def compute_mean_squared_gradient(y, tx, w):\n",
    "    err = y - tx.dot(w)\n",
    "    grad = -tx.T.dot(y) / len(y)\n",
    "    return grad, err\n",
    "\n",
    "def compute_SGD_gradient(y,tx,w):\n",
    "    err = y - tx.dot(w)\n",
    "    grad = -tx.T.dot(y)\n",
    "    return grad, err\n",
    "\n",
    "def gradient_descent(y, tx, w_initial, max_iters, gradient_function, loss_function):\n",
    "    w = w_initial\n",
    "    for n in range(max_iters):\n",
    "        # compute gradient\n",
    "        grad, err = gradient_function(y, tx, w)\n",
    "\n",
    "        # gradient w by descent update\n",
    "        w = w - gamma * grad\n",
    "\n",
    "    loss = loss_function(y, tx, w)\n",
    "    return w, loss"
   ]
  },
  {
   "cell_type": "code",
   "execution_count": 4,
   "metadata": {},
   "outputs": [],
   "source": [
    "def least_squares_GD(y, tx, initial_w, max_iters, gamma):\n",
    "    \"\"\"Least Squares gradient descent algorithm\"\"\"\n",
    "    w = initial_w\n",
    "    for n in range(max_iters):\n",
    "        # compute gradient\n",
    "        grad, err = compute_mean_squared_gradient(y, tx, w)\n",
    "\n",
    "        # gradient w by descent update\n",
    "        w = w - gamma * grad\n",
    "\n",
    "    loss = compute_mse(y, tx, w)\n",
    "    return w, loss"
   ]
  },
  {
   "cell_type": "code",
   "execution_count": 5,
   "metadata": {},
   "outputs": [],
   "source": [
    "def least_squares_SGD(y, tx, initial_w, max_iters, gamma):\n",
    "    \"\"\"Stochastic gradient descent.\"\"\"\n",
    "    # Define parameters to store w and loss\n",
    "    w = initial_w\n",
    "\n",
    "    for n_iter in range(max_iters):\n",
    "        index = np.random.randint(0, len(y) - 1)\n",
    "        # Compute a stochastic gradient and loss\n",
    "        grad, err = compute_SGD_gradient(y[index], tx[index, :], w)\n",
    "\n",
    "        # Update w through the stochastic gradient update\n",
    "        w = w - gamma * grad\n",
    "\n",
    "    loss = compute_mse(y, tx, w)\n",
    "    return w, loss"
   ]
  },
  {
   "cell_type": "code",
   "execution_count": 6,
   "metadata": {},
   "outputs": [],
   "source": [
    "def least_squares(y, tx):\n",
    "    \"\"\"calculate the least squares solution.\"\"\"\n",
    "    a = tx.T.dot(tx)\n",
    "    b = tx.T.dot(y)\n",
    "    w = np.linalg.solve(a, b)\n",
    "    loss = compute_mse(y, tx, w)\n",
    "    return w, loss"
   ]
  },
  {
   "cell_type": "code",
   "execution_count": 7,
   "metadata": {},
   "outputs": [],
   "source": [
    "def ridge_regression(y, tx, lambda_):\n",
    "    aI = 2 * tx.shape[0] * lambda_ * np.identity(tx.shape[1])\n",
    "    a = tx.T.dot(tx) + aI\n",
    "    b = tx.T.dot(y)\n",
    "    w = np.linalg.solve(a, b)\n",
    "    loss = compute_mse(y, tx, w)\n",
    "    return w, loss"
   ]
  },
  {
   "cell_type": "code",
   "execution_count": 8,
   "metadata": {},
   "outputs": [],
   "source": [
    "def reg_logistic_regression_loss(y, tx, w, lambda_):\n",
    "    return (np.sum(np.log(1 + np.exp(np.dot(tx, w)))) - y.dot(np.dot(tx, w)))/len(y) + lambda_/2*np.vdot(w, w)\n",
    "\n",
    "def log_likelihood_regularized_gradient(y, tx, w, lambda_):\n",
    "    return np.dot(np.transpose(tx), sigmoid(np.dot(tx, w)) - y)/len(y) + lambda_*w\n",
    "\n",
    "def reg_logistic_regression(y, tx, lambda_, initial_w, max_iters, gamma):\n",
    "    w = initial_w\n",
    "    for n in range(max_iters):\n",
    "        grad = log_likelihood_regularized_gradient(y, tx, w, lambda_)\n",
    "        w = w - gamma*grad       \n",
    "    loss = reg_logistic_regression_loss(y, tx, w, lambda_)\n",
    "    return w, loss"
   ]
  },
  {
   "cell_type": "code",
   "execution_count": 9,
   "metadata": {},
   "outputs": [],
   "source": [
    "def sigmoid(x):\n",
    "    return 1/(1+np.exp(-x))\n",
    "\n",
    "def log_likelihood_gradient(y, tx, w):\n",
    "    return np.dot(np.transpose(tx), sigmoid(np.dot(tx, w)) - y)/len(y)\n",
    "\n",
    "def loss_logistic_regression(y, tx, w):\n",
    "    return np.sum(np.log(1 + np.exp(np.dot(tx, w))) - y*np.dot(tx, w))/len(y)\n",
    "\n",
    "def logistic_regression(y, tx, initial_w, max_iters, gamma):\n",
    "    w = initial_w\n",
    "    for n_iter in range(max_iters):\n",
    "        grad = log_likelihood_gradient(y, tx, w)\n",
    "        w = w - gamma*grad    \n",
    "    loss = loss_logistic_regression(y, tx, w)\n",
    "    return w, loss"
   ]
  },
  {
   "cell_type": "code",
   "execution_count": 10,
   "metadata": {},
   "outputs": [],
   "source": [
    "def standardize(x):\n",
    "    centered_data = x -np.mean(x,axis=0)\n",
    "    std_data = centered_data / np.std(centered_data, axis=0)\n",
    "    \n",
    "    return std_data"
   ]
  },
  {
   "cell_type": "code",
   "execution_count": 11,
   "metadata": {},
   "outputs": [
    {
     "name": "stdout",
     "output_type": "stream",
     "text": [
      "(250000, 30)\n"
     ]
    }
   ],
   "source": [
    "training_data_path = \"../data/train.csv\"\n",
    "testing_data_path = \"../data/test.csv\"\n",
    "\n",
    "y_training, training_data, ids = load_csv_data(training_data_path)\n",
    "y_testing, testing_data, ids = load_csv_data(testing_data_path)\n",
    "\n",
    "import matplotlib\n",
    "import matplotlib.pyplot as plt\n",
    "\n",
    "print(np.shape(training_data))\n",
    "\n"
   ]
  },
  {
   "cell_type": "markdown",
   "metadata": {},
   "source": [
    "# Preprocessing"
   ]
  },
  {
   "cell_type": "code",
   "execution_count": 14,
   "metadata": {},
   "outputs": [],
   "source": [
    "for i in range(np.shape(training_data)[1]):\n",
    "    feature = training_data[:,i] \n",
    "    feature_class_1 = feature[y_training==-1]\n",
    "    feature_class_1_clean = feature_class_1[feature_class_1!=-999]\n",
    "    feature_mean_1 = np.mean(feature_class_1_clean)\n",
    "    feature_class_2 = feature[y_training==1]\n",
    "    feature_mean_2 = np.mean(feature_class_2[feature_class_2!=-999])\n",
    "    for j in range(np.shape(training_data)[0]):\n",
    "        if y_training[j] == -1 and training_data[j,i] == -999:\n",
    "            training_data[j,i] = feature_mean_1;\n",
    "        if y_training[j] == 1 and training_data[j,i] == -999:\n",
    "            training_data[j,i] = feature_mean_2;\n",
    "\n",
    "\n",
    "    \n"
   ]
  },
  {
   "cell_type": "code",
   "execution_count": 15,
   "metadata": {},
   "outputs": [
    {
     "data": {
      "image/png": "[encoded data removed]",
      "text/plain": [
       "<Figure size 432x288 with 1 Axes>"
      ]
     },
     "metadata": {},
     "output_type": "display_data"
    }
   ],
   "source": [
    "x1 = training_data[:,0]\n",
    "x2 = training_data[:,5]\n",
    "\n",
    "plt.scatter(x1,x2, c = y_training)\n",
    "plt.show()"
   ]
  },
  {
   "cell_type": "code",
   "execution_count": 16,
   "metadata": {},
   "outputs": [
    {
     "name": "stdout",
     "output_type": "stream",
     "text": [
      "(250000, 30)\n"
     ]
    }
   ],
   "source": [
    "print(np.shape(training_data))"
   ]
  },
  {
   "cell_type": "code",
   "execution_count": 253,
   "metadata": {},
   "outputs": [
    {
     "name": "stdout",
     "output_type": "stream",
     "text": [
      "(164333,)\n"
     ]
    }
   ],
   "source": [
    "x = training_data[:,4] \n",
    "y = x[y_training!=-1]\n",
    "print(np.shape(y))"
   ]
  },
  {
   "cell_type": "code",
   "execution_count": 291,
   "metadata": {},
   "outputs": [
    {
     "name": "stdout",
     "output_type": "stream",
     "text": [
      "0.374232\n"
     ]
    }
   ],
   "source": [
    "init_w = np.ones(input_data.shape[1]);\n",
    "#y[y==-1] = 0\n",
    "\n",
    "    \n",
    "#training_data[training_data==-999] = 0\n",
    "#print(input_data)\n",
    "training_data_st = standardize(training_data)\n",
    "#a,b = logistic_regression(y_training,training_data_st, init_w, 10, 10**-12);\n",
    "a,b = logistic_regression(y_training,training_data_st, init_w, 10, 10**-12);\n",
    "#a,b = ridge_regression(y_training,training_data_st,1e-12);\n",
    "y_train_pred = predict_labels(a,training_data_st)\n",
    "\n",
    "print(sum(np.abs(y_train_pred - y_training))/2/np.shape(y_training)[0])\n"
   ]
  },
  {
   "cell_type": "code",
   "execution_count": null,
   "metadata": {},
   "outputs": [],
   "source": []
  },
  {
   "cell_type": "code",
   "execution_count": null,
   "metadata": {},
   "outputs": [],
   "source": []
  }
 ],
 "metadata": {
  "kernelspec": {
   "display_name": "Python 3",
   "language": "python",
   "name": "python3"
  },
  "language_info": {
   "codemirror_mode": {
    "name": "ipython",
    "version": 3
   },
   "file_extension": ".py",
   "mimetype": "text/x-python",
   "name": "python",
   "nbconvert_exporter": "python",
   "pygments_lexer": "ipython3",
   "version": "3.6.5"
  }
 },
 "nbformat": 4,
 "nbformat_minor": 2
}
